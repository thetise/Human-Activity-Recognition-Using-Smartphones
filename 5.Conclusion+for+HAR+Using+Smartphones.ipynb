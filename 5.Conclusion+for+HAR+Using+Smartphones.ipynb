{
 "cells": [
  {
   "cell_type": "code",
   "execution_count": 6,
   "id": "c1ecf34b-6cdd-4f48-8aff-9c86b6dd6b71",
   "metadata": {},
   "outputs": [],
   "source": [
    "from prettytable import PrettyTable"
   ]
  },
  {
   "cell_type": "code",
   "execution_count": 22,
   "id": "ea9856bd-bbe4-494d-b4be-e6a2564f1be7",
   "metadata": {},
   "outputs": [
    {
     "name": "stdout",
     "output_type": "stream",
     "text": [
      "\n",
      "\n",
      " ***************** Machine Learning Model Comparision *****************\n",
      "+----------------------------+------------------------+---------------+\n",
      "|         Model Name         | Hyperparameter Tunning | Accuracy Rate |\n",
      "+----------------------------+------------------------+---------------+\n",
      "| Support Vector Classifiers |       Completed        |     99.15%    |\n",
      "|    k-Nearest Neighbors     |       Completed        |     98.05%    |\n",
      "|       Random Forest        |       Completed        |     97.31%    |\n",
      "+----------------------------+------------------------+---------------+\n"
     ]
    }
   ],
   "source": [
    "ptable1 = PrettyTable()\n",
    "ptable1.field_names = ['Model Name','Hyperparameter Tunning', 'Accuracy Rate']\n",
    "\n",
    "print(\"\\n\\n ***************** Machine Learning Model Comparision *****************\")\n",
    "ptable1.add_row([\"Support Vector Classifiers\",\"Completed\",\"99.15%\"])\n",
    "ptable1.add_row([\"k-Nearest Neighbors\",\"Completed\",\"98.05%\"])\n",
    "ptable1.add_row([\"Random Forest\",\"Completed\",\"97.31%\"])\n",
    "\n",
    "print(ptable1)"
   ]
  },
  {
   "cell_type": "code",
   "execution_count": null,
   "id": "e32be7d9-bbb2-4f75-8596-5b31da037a0c",
   "metadata": {},
   "outputs": [],
   "source": []
  }
 ],
 "metadata": {
  "kernelspec": {
   "display_name": "Python 3 (ipykernel)",
   "language": "python",
   "name": "python3"
  },
  "language_info": {
   "codemirror_mode": {
    "name": "ipython",
    "version": 3
   },
   "file_extension": ".py",
   "mimetype": "text/x-python",
   "name": "python",
   "nbconvert_exporter": "python",
   "pygments_lexer": "ipython3",
   "version": "3.9.7"
  }
 },
 "nbformat": 4,
 "nbformat_minor": 5
}
