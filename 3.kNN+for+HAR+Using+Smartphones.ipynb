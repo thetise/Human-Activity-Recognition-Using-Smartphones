{
 "cells": [
  {
   "cell_type": "code",
   "execution_count": 1,
   "id": "d6dd5581-04d4-4fa4-84c6-400b9a733cfe",
   "metadata": {},
   "outputs": [],
   "source": [
    "import pandas as pd\n",
    "import numpy as np \n",
    "import seaborn as sns\n",
    "import matplotlib.pyplot as plt"
   ]
  },
  {
   "cell_type": "code",
   "execution_count": 2,
   "id": "f2b33c91-78b2-4ff5-b805-93de6b86bdb5",
   "metadata": {},
   "outputs": [],
   "source": [
    "df = pd.read_csv(\"/Users/HP/Desktop/dataset.csv\")"
   ]
  },
  {
   "cell_type": "code",
   "execution_count": 3,
   "id": "465c53c5-9a1b-41e0-942f-b1fb73040622",
   "metadata": {},
   "outputs": [
    {
     "data": {
      "text/plain": [
       "(10299, 563)"
      ]
     },
     "execution_count": 3,
     "metadata": {},
     "output_type": "execute_result"
    }
   ],
   "source": [
    "df.shape"
   ]
  },
  {
   "cell_type": "code",
   "execution_count": 5,
   "id": "3c71c032-c99c-411f-a1d5-be5ccaba3314",
   "metadata": {},
   "outputs": [
    {
     "data": {
      "text/html": [
       "<div>\n",
       "<style scoped>\n",
       "    .dataframe tbody tr th:only-of-type {\n",
       "        vertical-align: middle;\n",
       "    }\n",
       "\n",
       "    .dataframe tbody tr th {\n",
       "        vertical-align: top;\n",
       "    }\n",
       "\n",
       "    .dataframe thead th {\n",
       "        text-align: right;\n",
       "    }\n",
       "</style>\n",
       "<table border=\"1\" class=\"dataframe\">\n",
       "  <thead>\n",
       "    <tr style=\"text-align: right;\">\n",
       "      <th></th>\n",
       "      <th>tBodyAcc-mean()-X</th>\n",
       "      <th>tBodyAcc-mean()-Y</th>\n",
       "      <th>tBodyAcc-mean()-Z</th>\n",
       "      <th>tBodyAcc-std()-X</th>\n",
       "      <th>tBodyAcc-std()-Y</th>\n",
       "      <th>tBodyAcc-std()-Z</th>\n",
       "      <th>tBodyAcc-mad()-X</th>\n",
       "      <th>tBodyAcc-mad()-Y</th>\n",
       "      <th>tBodyAcc-mad()-Z</th>\n",
       "      <th>tBodyAcc-max()-X</th>\n",
       "      <th>...</th>\n",
       "      <th>fBodyBodyGyroJerkMag-kurtosis()</th>\n",
       "      <th>angle(tBodyAccMean,gravity)</th>\n",
       "      <th>angle(tBodyAccJerkMean),gravityMean)</th>\n",
       "      <th>angle(tBodyGyroMean,gravityMean)</th>\n",
       "      <th>angle(tBodyGyroJerkMean,gravityMean)</th>\n",
       "      <th>angle(X,gravityMean)</th>\n",
       "      <th>angle(Y,gravityMean)</th>\n",
       "      <th>angle(Z,gravityMean)</th>\n",
       "      <th>subject</th>\n",
       "      <th>Activity</th>\n",
       "    </tr>\n",
       "  </thead>\n",
       "  <tbody>\n",
       "    <tr>\n",
       "      <th>0</th>\n",
       "      <td>0.288585</td>\n",
       "      <td>-0.020294</td>\n",
       "      <td>-0.132905</td>\n",
       "      <td>-0.995279</td>\n",
       "      <td>-0.983111</td>\n",
       "      <td>-0.913526</td>\n",
       "      <td>-0.995112</td>\n",
       "      <td>-0.983185</td>\n",
       "      <td>-0.923527</td>\n",
       "      <td>-0.934724</td>\n",
       "      <td>...</td>\n",
       "      <td>-0.710304</td>\n",
       "      <td>-0.112754</td>\n",
       "      <td>0.030400</td>\n",
       "      <td>-0.464761</td>\n",
       "      <td>-0.018446</td>\n",
       "      <td>-0.841247</td>\n",
       "      <td>0.179941</td>\n",
       "      <td>-0.058627</td>\n",
       "      <td>1</td>\n",
       "      <td>STANDING</td>\n",
       "    </tr>\n",
       "    <tr>\n",
       "      <th>1</th>\n",
       "      <td>0.278419</td>\n",
       "      <td>-0.016411</td>\n",
       "      <td>-0.123520</td>\n",
       "      <td>-0.998245</td>\n",
       "      <td>-0.975300</td>\n",
       "      <td>-0.960322</td>\n",
       "      <td>-0.998807</td>\n",
       "      <td>-0.974914</td>\n",
       "      <td>-0.957686</td>\n",
       "      <td>-0.943068</td>\n",
       "      <td>...</td>\n",
       "      <td>-0.861499</td>\n",
       "      <td>0.053477</td>\n",
       "      <td>-0.007435</td>\n",
       "      <td>-0.732626</td>\n",
       "      <td>0.703511</td>\n",
       "      <td>-0.844788</td>\n",
       "      <td>0.180289</td>\n",
       "      <td>-0.054317</td>\n",
       "      <td>1</td>\n",
       "      <td>STANDING</td>\n",
       "    </tr>\n",
       "    <tr>\n",
       "      <th>2</th>\n",
       "      <td>0.279653</td>\n",
       "      <td>-0.019467</td>\n",
       "      <td>-0.113462</td>\n",
       "      <td>-0.995380</td>\n",
       "      <td>-0.967187</td>\n",
       "      <td>-0.978944</td>\n",
       "      <td>-0.996520</td>\n",
       "      <td>-0.963668</td>\n",
       "      <td>-0.977469</td>\n",
       "      <td>-0.938692</td>\n",
       "      <td>...</td>\n",
       "      <td>-0.760104</td>\n",
       "      <td>-0.118559</td>\n",
       "      <td>0.177899</td>\n",
       "      <td>0.100699</td>\n",
       "      <td>0.808529</td>\n",
       "      <td>-0.848933</td>\n",
       "      <td>0.180637</td>\n",
       "      <td>-0.049118</td>\n",
       "      <td>1</td>\n",
       "      <td>STANDING</td>\n",
       "    </tr>\n",
       "    <tr>\n",
       "      <th>3</th>\n",
       "      <td>0.279174</td>\n",
       "      <td>-0.026201</td>\n",
       "      <td>-0.123283</td>\n",
       "      <td>-0.996091</td>\n",
       "      <td>-0.983403</td>\n",
       "      <td>-0.990675</td>\n",
       "      <td>-0.997099</td>\n",
       "      <td>-0.982750</td>\n",
       "      <td>-0.989302</td>\n",
       "      <td>-0.938692</td>\n",
       "      <td>...</td>\n",
       "      <td>-0.482845</td>\n",
       "      <td>-0.036788</td>\n",
       "      <td>-0.012892</td>\n",
       "      <td>0.640011</td>\n",
       "      <td>-0.485366</td>\n",
       "      <td>-0.848649</td>\n",
       "      <td>0.181935</td>\n",
       "      <td>-0.047663</td>\n",
       "      <td>1</td>\n",
       "      <td>STANDING</td>\n",
       "    </tr>\n",
       "    <tr>\n",
       "      <th>4</th>\n",
       "      <td>0.276629</td>\n",
       "      <td>-0.016570</td>\n",
       "      <td>-0.115362</td>\n",
       "      <td>-0.998139</td>\n",
       "      <td>-0.980817</td>\n",
       "      <td>-0.990482</td>\n",
       "      <td>-0.998321</td>\n",
       "      <td>-0.979672</td>\n",
       "      <td>-0.990441</td>\n",
       "      <td>-0.942469</td>\n",
       "      <td>...</td>\n",
       "      <td>-0.699205</td>\n",
       "      <td>0.123320</td>\n",
       "      <td>0.122542</td>\n",
       "      <td>0.693578</td>\n",
       "      <td>-0.615971</td>\n",
       "      <td>-0.847865</td>\n",
       "      <td>0.185151</td>\n",
       "      <td>-0.043892</td>\n",
       "      <td>1</td>\n",
       "      <td>STANDING</td>\n",
       "    </tr>\n",
       "  </tbody>\n",
       "</table>\n",
       "<p>5 rows × 563 columns</p>\n",
       "</div>"
      ],
      "text/plain": [
       "   tBodyAcc-mean()-X  tBodyAcc-mean()-Y  tBodyAcc-mean()-Z  tBodyAcc-std()-X  \\\n",
       "0           0.288585          -0.020294          -0.132905         -0.995279   \n",
       "1           0.278419          -0.016411          -0.123520         -0.998245   \n",
       "2           0.279653          -0.019467          -0.113462         -0.995380   \n",
       "3           0.279174          -0.026201          -0.123283         -0.996091   \n",
       "4           0.276629          -0.016570          -0.115362         -0.998139   \n",
       "\n",
       "   tBodyAcc-std()-Y  tBodyAcc-std()-Z  tBodyAcc-mad()-X  tBodyAcc-mad()-Y  \\\n",
       "0         -0.983111         -0.913526         -0.995112         -0.983185   \n",
       "1         -0.975300         -0.960322         -0.998807         -0.974914   \n",
       "2         -0.967187         -0.978944         -0.996520         -0.963668   \n",
       "3         -0.983403         -0.990675         -0.997099         -0.982750   \n",
       "4         -0.980817         -0.990482         -0.998321         -0.979672   \n",
       "\n",
       "   tBodyAcc-mad()-Z  tBodyAcc-max()-X  ...  fBodyBodyGyroJerkMag-kurtosis()  \\\n",
       "0         -0.923527         -0.934724  ...                        -0.710304   \n",
       "1         -0.957686         -0.943068  ...                        -0.861499   \n",
       "2         -0.977469         -0.938692  ...                        -0.760104   \n",
       "3         -0.989302         -0.938692  ...                        -0.482845   \n",
       "4         -0.990441         -0.942469  ...                        -0.699205   \n",
       "\n",
       "   angle(tBodyAccMean,gravity)  angle(tBodyAccJerkMean),gravityMean)  \\\n",
       "0                    -0.112754                              0.030400   \n",
       "1                     0.053477                             -0.007435   \n",
       "2                    -0.118559                              0.177899   \n",
       "3                    -0.036788                             -0.012892   \n",
       "4                     0.123320                              0.122542   \n",
       "\n",
       "   angle(tBodyGyroMean,gravityMean)  angle(tBodyGyroJerkMean,gravityMean)  \\\n",
       "0                         -0.464761                             -0.018446   \n",
       "1                         -0.732626                              0.703511   \n",
       "2                          0.100699                              0.808529   \n",
       "3                          0.640011                             -0.485366   \n",
       "4                          0.693578                             -0.615971   \n",
       "\n",
       "   angle(X,gravityMean)  angle(Y,gravityMean)  angle(Z,gravityMean)  subject  \\\n",
       "0             -0.841247              0.179941             -0.058627        1   \n",
       "1             -0.844788              0.180289             -0.054317        1   \n",
       "2             -0.848933              0.180637             -0.049118        1   \n",
       "3             -0.848649              0.181935             -0.047663        1   \n",
       "4             -0.847865              0.185151             -0.043892        1   \n",
       "\n",
       "   Activity  \n",
       "0  STANDING  \n",
       "1  STANDING  \n",
       "2  STANDING  \n",
       "3  STANDING  \n",
       "4  STANDING  \n",
       "\n",
       "[5 rows x 563 columns]"
      ]
     },
     "execution_count": 5,
     "metadata": {},
     "output_type": "execute_result"
    }
   ],
   "source": [
    "df.head()"
   ]
  },
  {
   "cell_type": "code",
   "execution_count": 6,
   "id": "549742cf-9753-4598-92e1-b5eadc33e18f",
   "metadata": {},
   "outputs": [
    {
     "data": {
      "text/html": [
       "<div>\n",
       "<style scoped>\n",
       "    .dataframe tbody tr th:only-of-type {\n",
       "        vertical-align: middle;\n",
       "    }\n",
       "\n",
       "    .dataframe tbody tr th {\n",
       "        vertical-align: top;\n",
       "    }\n",
       "\n",
       "    .dataframe thead th {\n",
       "        text-align: right;\n",
       "    }\n",
       "</style>\n",
       "<table border=\"1\" class=\"dataframe\">\n",
       "  <thead>\n",
       "    <tr style=\"text-align: right;\">\n",
       "      <th></th>\n",
       "      <th>tBodyAcc-mean()-X</th>\n",
       "      <th>tBodyAcc-mean()-Y</th>\n",
       "      <th>tBodyAcc-mean()-Z</th>\n",
       "      <th>tBodyAcc-std()-X</th>\n",
       "      <th>tBodyAcc-std()-Y</th>\n",
       "      <th>tBodyAcc-std()-Z</th>\n",
       "      <th>tBodyAcc-mad()-X</th>\n",
       "      <th>tBodyAcc-mad()-Y</th>\n",
       "      <th>tBodyAcc-mad()-Z</th>\n",
       "      <th>tBodyAcc-max()-X</th>\n",
       "      <th>...</th>\n",
       "      <th>fBodyBodyGyroJerkMag-kurtosis()</th>\n",
       "      <th>angle(tBodyAccMean,gravity)</th>\n",
       "      <th>angle(tBodyAccJerkMean),gravityMean)</th>\n",
       "      <th>angle(tBodyGyroMean,gravityMean)</th>\n",
       "      <th>angle(tBodyGyroJerkMean,gravityMean)</th>\n",
       "      <th>angle(X,gravityMean)</th>\n",
       "      <th>angle(Y,gravityMean)</th>\n",
       "      <th>angle(Z,gravityMean)</th>\n",
       "      <th>subject</th>\n",
       "      <th>Activity</th>\n",
       "    </tr>\n",
       "  </thead>\n",
       "  <tbody>\n",
       "    <tr>\n",
       "      <th>10294</th>\n",
       "      <td>0.310155</td>\n",
       "      <td>-0.053391</td>\n",
       "      <td>-0.099109</td>\n",
       "      <td>-0.287866</td>\n",
       "      <td>-0.140589</td>\n",
       "      <td>-0.215088</td>\n",
       "      <td>-0.356083</td>\n",
       "      <td>-0.148775</td>\n",
       "      <td>-0.232057</td>\n",
       "      <td>0.185361</td>\n",
       "      <td>...</td>\n",
       "      <td>-0.750809</td>\n",
       "      <td>-0.337422</td>\n",
       "      <td>0.346295</td>\n",
       "      <td>0.884904</td>\n",
       "      <td>-0.698885</td>\n",
       "      <td>-0.651732</td>\n",
       "      <td>0.274627</td>\n",
       "      <td>0.184784</td>\n",
       "      <td>24</td>\n",
       "      <td>WALKING_UPSTAIRS</td>\n",
       "    </tr>\n",
       "    <tr>\n",
       "      <th>10295</th>\n",
       "      <td>0.363385</td>\n",
       "      <td>-0.039214</td>\n",
       "      <td>-0.105915</td>\n",
       "      <td>-0.305388</td>\n",
       "      <td>0.028148</td>\n",
       "      <td>-0.196373</td>\n",
       "      <td>-0.373540</td>\n",
       "      <td>-0.030036</td>\n",
       "      <td>-0.270237</td>\n",
       "      <td>0.185361</td>\n",
       "      <td>...</td>\n",
       "      <td>-0.700274</td>\n",
       "      <td>-0.736701</td>\n",
       "      <td>-0.372889</td>\n",
       "      <td>-0.657421</td>\n",
       "      <td>0.322549</td>\n",
       "      <td>-0.655181</td>\n",
       "      <td>0.273578</td>\n",
       "      <td>0.182412</td>\n",
       "      <td>24</td>\n",
       "      <td>WALKING_UPSTAIRS</td>\n",
       "    </tr>\n",
       "    <tr>\n",
       "      <th>10296</th>\n",
       "      <td>0.349966</td>\n",
       "      <td>0.030077</td>\n",
       "      <td>-0.115788</td>\n",
       "      <td>-0.329638</td>\n",
       "      <td>-0.042143</td>\n",
       "      <td>-0.250181</td>\n",
       "      <td>-0.388017</td>\n",
       "      <td>-0.133257</td>\n",
       "      <td>-0.347029</td>\n",
       "      <td>0.007471</td>\n",
       "      <td>...</td>\n",
       "      <td>-0.467179</td>\n",
       "      <td>-0.181560</td>\n",
       "      <td>0.088574</td>\n",
       "      <td>0.696663</td>\n",
       "      <td>0.363139</td>\n",
       "      <td>-0.655357</td>\n",
       "      <td>0.274479</td>\n",
       "      <td>0.181184</td>\n",
       "      <td>24</td>\n",
       "      <td>WALKING_UPSTAIRS</td>\n",
       "    </tr>\n",
       "    <tr>\n",
       "      <th>10297</th>\n",
       "      <td>0.237594</td>\n",
       "      <td>0.018467</td>\n",
       "      <td>-0.096499</td>\n",
       "      <td>-0.323114</td>\n",
       "      <td>-0.229775</td>\n",
       "      <td>-0.207574</td>\n",
       "      <td>-0.392380</td>\n",
       "      <td>-0.279610</td>\n",
       "      <td>-0.289477</td>\n",
       "      <td>0.007471</td>\n",
       "      <td>...</td>\n",
       "      <td>-0.617737</td>\n",
       "      <td>0.444558</td>\n",
       "      <td>-0.819188</td>\n",
       "      <td>0.929294</td>\n",
       "      <td>-0.008398</td>\n",
       "      <td>-0.659719</td>\n",
       "      <td>0.264782</td>\n",
       "      <td>0.187563</td>\n",
       "      <td>24</td>\n",
       "      <td>WALKING_UPSTAIRS</td>\n",
       "    </tr>\n",
       "    <tr>\n",
       "      <th>10298</th>\n",
       "      <td>0.153627</td>\n",
       "      <td>-0.018437</td>\n",
       "      <td>-0.137018</td>\n",
       "      <td>-0.330046</td>\n",
       "      <td>-0.195253</td>\n",
       "      <td>-0.164339</td>\n",
       "      <td>-0.430974</td>\n",
       "      <td>-0.218295</td>\n",
       "      <td>-0.229933</td>\n",
       "      <td>-0.111527</td>\n",
       "      <td>...</td>\n",
       "      <td>-0.436940</td>\n",
       "      <td>0.598808</td>\n",
       "      <td>-0.287951</td>\n",
       "      <td>0.876030</td>\n",
       "      <td>-0.024965</td>\n",
       "      <td>-0.660080</td>\n",
       "      <td>0.263936</td>\n",
       "      <td>0.188103</td>\n",
       "      <td>24</td>\n",
       "      <td>WALKING_UPSTAIRS</td>\n",
       "    </tr>\n",
       "  </tbody>\n",
       "</table>\n",
       "<p>5 rows × 563 columns</p>\n",
       "</div>"
      ],
      "text/plain": [
       "       tBodyAcc-mean()-X  tBodyAcc-mean()-Y  tBodyAcc-mean()-Z  \\\n",
       "10294           0.310155          -0.053391          -0.099109   \n",
       "10295           0.363385          -0.039214          -0.105915   \n",
       "10296           0.349966           0.030077          -0.115788   \n",
       "10297           0.237594           0.018467          -0.096499   \n",
       "10298           0.153627          -0.018437          -0.137018   \n",
       "\n",
       "       tBodyAcc-std()-X  tBodyAcc-std()-Y  tBodyAcc-std()-Z  tBodyAcc-mad()-X  \\\n",
       "10294         -0.287866         -0.140589         -0.215088         -0.356083   \n",
       "10295         -0.305388          0.028148         -0.196373         -0.373540   \n",
       "10296         -0.329638         -0.042143         -0.250181         -0.388017   \n",
       "10297         -0.323114         -0.229775         -0.207574         -0.392380   \n",
       "10298         -0.330046         -0.195253         -0.164339         -0.430974   \n",
       "\n",
       "       tBodyAcc-mad()-Y  tBodyAcc-mad()-Z  tBodyAcc-max()-X  ...  \\\n",
       "10294         -0.148775         -0.232057          0.185361  ...   \n",
       "10295         -0.030036         -0.270237          0.185361  ...   \n",
       "10296         -0.133257         -0.347029          0.007471  ...   \n",
       "10297         -0.279610         -0.289477          0.007471  ...   \n",
       "10298         -0.218295         -0.229933         -0.111527  ...   \n",
       "\n",
       "       fBodyBodyGyroJerkMag-kurtosis()  angle(tBodyAccMean,gravity)  \\\n",
       "10294                        -0.750809                    -0.337422   \n",
       "10295                        -0.700274                    -0.736701   \n",
       "10296                        -0.467179                    -0.181560   \n",
       "10297                        -0.617737                     0.444558   \n",
       "10298                        -0.436940                     0.598808   \n",
       "\n",
       "       angle(tBodyAccJerkMean),gravityMean)  angle(tBodyGyroMean,gravityMean)  \\\n",
       "10294                              0.346295                          0.884904   \n",
       "10295                             -0.372889                         -0.657421   \n",
       "10296                              0.088574                          0.696663   \n",
       "10297                             -0.819188                          0.929294   \n",
       "10298                             -0.287951                          0.876030   \n",
       "\n",
       "       angle(tBodyGyroJerkMean,gravityMean)  angle(X,gravityMean)  \\\n",
       "10294                             -0.698885             -0.651732   \n",
       "10295                              0.322549             -0.655181   \n",
       "10296                              0.363139             -0.655357   \n",
       "10297                             -0.008398             -0.659719   \n",
       "10298                             -0.024965             -0.660080   \n",
       "\n",
       "       angle(Y,gravityMean)  angle(Z,gravityMean)  subject          Activity  \n",
       "10294              0.274627              0.184784       24  WALKING_UPSTAIRS  \n",
       "10295              0.273578              0.182412       24  WALKING_UPSTAIRS  \n",
       "10296              0.274479              0.181184       24  WALKING_UPSTAIRS  \n",
       "10297              0.264782              0.187563       24  WALKING_UPSTAIRS  \n",
       "10298              0.263936              0.188103       24  WALKING_UPSTAIRS  \n",
       "\n",
       "[5 rows x 563 columns]"
      ]
     },
     "execution_count": 6,
     "metadata": {},
     "output_type": "execute_result"
    }
   ],
   "source": [
    "df.tail()"
   ]
  },
  {
   "cell_type": "code",
   "execution_count": 3,
   "id": "a207d808-af2e-4101-8437-bf58a020e953",
   "metadata": {},
   "outputs": [],
   "source": [
    "from sklearn.metrics import accuracy_score\n",
    "from sklearn.neighbors import KNeighborsClassifier\n",
    "from sklearn.model_selection import train_test_split"
   ]
  },
  {
   "cell_type": "code",
   "execution_count": 4,
   "id": "7a858cf1-41d4-4c47-82fe-f9c156e04f0d",
   "metadata": {},
   "outputs": [],
   "source": [
    "y = df[\"Activity\"]"
   ]
  },
  {
   "cell_type": "code",
   "execution_count": 5,
   "id": "19177249-4231-4bfa-9340-d3a830f58f6c",
   "metadata": {},
   "outputs": [],
   "source": [
    "X = df.drop([\"subject\", \"Activity\"], axis = 1)"
   ]
  },
  {
   "cell_type": "code",
   "execution_count": 6,
   "id": "0aebdebd-1d43-4df5-bdd0-0733044d713d",
   "metadata": {},
   "outputs": [],
   "source": [
    "X_train, X_test, y_train, y_test = train_test_split(X,y, test_size = 0.30, random_state = 8)"
   ]
  },
  {
   "cell_type": "code",
   "execution_count": 8,
   "id": "98794bd7-1cbf-4534-a53b-25411094d0b8",
   "metadata": {},
   "outputs": [
    {
     "name": "stdout",
     "output_type": "stream",
     "text": [
      "X_train and y_train : ((7209, 561),(7209,))\n",
      "X_test  and y_test  : ((3090, 561),(3090,))\n"
     ]
    }
   ],
   "source": [
    "print('X_train and y_train : ({},{})'.format(X_train.shape, y_train.shape))\n",
    "print('X_test  and y_test  : ({},{})'.format(X_test.shape, y_test.shape))"
   ]
  },
  {
   "cell_type": "code",
   "execution_count": 7,
   "id": "79087ec4-7767-419f-8427-bad6f11a72bc",
   "metadata": {},
   "outputs": [],
   "source": [
    "knn = KNeighborsClassifier()"
   ]
  },
  {
   "cell_type": "code",
   "execution_count": 8,
   "id": "5bd6adc9-a7c9-41d5-ae3d-daaa327787c2",
   "metadata": {},
   "outputs": [],
   "source": [
    "knn_model =knn.fit(X_train, y_train)"
   ]
  },
  {
   "cell_type": "code",
   "execution_count": 9,
   "id": "51190728-e319-454a-9d0f-2ae1b0c71588",
   "metadata": {},
   "outputs": [],
   "source": [
    "y_pred = knn_model.predict(X_test)"
   ]
  },
  {
   "cell_type": "code",
   "execution_count": 10,
   "id": "bfb9b378-7af4-4d3c-bc2d-09aa9cffd7e4",
   "metadata": {},
   "outputs": [
    {
     "data": {
      "text/plain": [
       "0.955663430420712"
      ]
     },
     "execution_count": 10,
     "metadata": {},
     "output_type": "execute_result"
    }
   ],
   "source": [
    "accuracy_score(y_test, y_pred)"
   ]
  },
  {
   "cell_type": "code",
   "execution_count": 20,
   "id": "6bdb3ad5-ef71-42c1-871c-3790865062fc",
   "metadata": {},
   "outputs": [
    {
     "data": {
      "image/png": "[encoded data removed]",
      "text/plain": [
       "<Figure size 432x288 with 1 Axes>"
      ]
     },
     "metadata": {
      "needs_background": "light"
     },
     "output_type": "display_data"
    }
   ],
   "source": [
    "acc_scores = []\n",
    "\n",
    "knn_model = KNeighborsClassifier(metric = \"manhattan\").fit(X_train,y_train)\n",
    "y_pred = knn_model.predict(X_test)\n",
    "acc_scores.append((accuracy_score(y_test,y_pred)))\n",
    "\n",
    "knn_model = KNeighborsClassifier(metric = \"minkowski\").fit(X_train,y_train)\n",
    "y_pred = knn_model.predict(X_test)\n",
    "acc_scores.append((accuracy_score(y_test,y_pred)))\n",
    "\n",
    "knn_model = KNeighborsClassifier(metric = \"chebyshev\").fit(X_train,y_train)\n",
    "y_pred = knn_model.predict(X_test)\n",
    "acc_scores.append((accuracy_score(y_test,y_pred)))\n",
    "\n",
    "metrics = [\"manhattan\", \"minkowski\", \"chebyshev\"]\n",
    "\n",
    "plt.plot(metrics, acc_scores, marker = \"o\")\n",
    "plt.xlabel('Metrics')\n",
    "plt.ylabel('Acuracy Scores')\n",
    "plt.show();"
   ]
  },
  {
   "cell_type": "code",
   "execution_count": 16,
   "id": "d3c6789b-fe97-4ad4-a3f5-68f69f5c78a6",
   "metadata": {},
   "outputs": [
    {
     "data": {
      "image/png": "[encoded data removed]",
      "text/plain": [
       "<Figure size 432x288 with 1 Axes>"
      ]
     },
     "metadata": {
      "needs_background": "light"
     },
     "output_type": "display_data"
    }
   ],
   "source": [
    "acc_scores = []\n",
    "\n",
    "for n in range(1,40):\n",
    "    knn_model = KNeighborsClassifier(metric = \"manhattan\", n_neighbors = n).fit(X_train,y_train)\n",
    "    y_pred = knn_model.predict(X_test)\n",
    "    acc_scores.append(accuracy_score(y_test,y_pred))\n",
    "    \n",
    "plt.plot(range(1,40), acc_scores, marker = \"o\")\n",
    "plt.xlabel('N Neighbors')\n",
    "plt.ylabel('Acuracy Scores')\n",
    "plt.show();"
   ]
  },
  {
   "cell_type": "code",
   "execution_count": 16,
   "id": "8589ab4c-2b44-406a-98ca-05c966772a18",
   "metadata": {},
   "outputs": [],
   "source": [
    "knn_params = {\"n_neighbors\" : [1,2,3,4,5],\n",
    "              \"weights\" : [\"distance\", \"uniform\"],\n",
    "              \"metric\" : [\"manhattan\"]}"
   ]
  },
  {
   "cell_type": "code",
   "execution_count": 19,
   "id": "20edaaa9-0aaf-4c8a-ae58-a8e5b35f2472",
   "metadata": {},
   "outputs": [],
   "source": [
    "from sklearn.model_selection import GridSearchCV"
   ]
  },
  {
   "cell_type": "code",
   "execution_count": 20,
   "id": "0d80e734-599b-472a-8576-3a685d9b8319",
   "metadata": {},
   "outputs": [],
   "source": [
    "knn_cv_model = GridSearchCV(knn, knn_params, cv = 10, verbose = 2)"
   ]
  },
  {
   "cell_type": "code",
   "execution_count": 21,
   "id": "e4a6970d-f099-470b-9f39-842a4f7e9298",
   "metadata": {},
   "outputs": [
    {
     "name": "stdout",
     "output_type": "stream",
     "text": [
      "Fitting 10 folds for each of 10 candidates, totalling 100 fits\n",
      "[CV] END ..metric=manhattan, n_neighbors=1, weights=distance; total time=  29.5s\n",
      "[CV] END ..metric=manhattan, n_neighbors=1, weights=distance; total time=  31.1s\n",
      "[CV] END ..metric=manhattan, n_neighbors=1, weights=distance; total time=  31.4s\n",
      "[CV] END ..metric=manhattan, n_neighbors=1, weights=distance; total time=  32.4s\n",
      "[CV] END ..metric=manhattan, n_neighbors=1, weights=distance; total time=  32.7s\n",
      "[CV] END ..metric=manhattan, n_neighbors=1, weights=distance; total time=  33.6s\n",
      "[CV] END ..metric=manhattan, n_neighbors=1, weights=distance; total time=  32.0s\n",
      "[CV] END ..metric=manhattan, n_neighbors=1, weights=distance; total time=  31.4s\n",
      "[CV] END ..metric=manhattan, n_neighbors=1, weights=distance; total time=  30.9s\n",
      "[CV] END ..metric=manhattan, n_neighbors=1, weights=distance; total time=  37.4s\n",
      "[CV] END ...metric=manhattan, n_neighbors=1, weights=uniform; total time=  33.6s\n",
      "[CV] END ...metric=manhattan, n_neighbors=1, weights=uniform; total time=  32.8s\n",
      "[CV] END ...metric=manhattan, n_neighbors=1, weights=uniform; total time=  32.7s\n",
      "[CV] END ...metric=manhattan, n_neighbors=1, weights=uniform; total time=  32.1s\n",
      "[CV] END ...metric=manhattan, n_neighbors=1, weights=uniform; total time=  32.5s\n",
      "[CV] END ...metric=manhattan, n_neighbors=1, weights=uniform; total time=  32.0s\n",
      "[CV] END ...metric=manhattan, n_neighbors=1, weights=uniform; total time=  30.4s\n",
      "[CV] END ...metric=manhattan, n_neighbors=1, weights=uniform; total time=  32.7s\n",
      "[CV] END ...metric=manhattan, n_neighbors=1, weights=uniform; total time=  32.3s\n",
      "[CV] END ...metric=manhattan, n_neighbors=1, weights=uniform; total time=  35.8s\n",
      "[CV] END ..metric=manhattan, n_neighbors=2, weights=distance; total time=  31.0s\n",
      "[CV] END ..metric=manhattan, n_neighbors=2, weights=distance; total time=  32.6s\n",
      "[CV] END ..metric=manhattan, n_neighbors=2, weights=distance; total time=  31.0s\n",
      "[CV] END ..metric=manhattan, n_neighbors=2, weights=distance; total time=  31.7s\n",
      "[CV] END ..metric=manhattan, n_neighbors=2, weights=distance; total time=  30.4s\n",
      "[CV] END ..metric=manhattan, n_neighbors=2, weights=distance; total time=  31.4s\n",
      "[CV] END ..metric=manhattan, n_neighbors=2, weights=distance; total time=  31.7s\n",
      "[CV] END ..metric=manhattan, n_neighbors=2, weights=distance; total time=  30.3s\n",
      "[CV] END ..metric=manhattan, n_neighbors=2, weights=distance; total time=  31.8s\n",
      "[CV] END ..metric=manhattan, n_neighbors=2, weights=distance; total time=  36.1s\n",
      "[CV] END ...metric=manhattan, n_neighbors=2, weights=uniform; total time=  31.0s\n",
      "[CV] END ...metric=manhattan, n_neighbors=2, weights=uniform; total time=  31.0s\n",
      "[CV] END ...metric=manhattan, n_neighbors=2, weights=uniform; total time=  31.4s\n",
      "[CV] END ...metric=manhattan, n_neighbors=2, weights=uniform; total time=  32.9s\n",
      "[CV] END ...metric=manhattan, n_neighbors=2, weights=uniform; total time=  30.7s\n",
      "[CV] END ...metric=manhattan, n_neighbors=2, weights=uniform; total time=  31.4s\n",
      "[CV] END ...metric=manhattan, n_neighbors=2, weights=uniform; total time=  30.9s\n",
      "[CV] END ...metric=manhattan, n_neighbors=2, weights=uniform; total time=  31.4s\n",
      "[CV] END ...metric=manhattan, n_neighbors=2, weights=uniform; total time=  32.7s\n",
      "[CV] END ...metric=manhattan, n_neighbors=2, weights=uniform; total time=  35.8s\n",
      "[CV] END ..metric=manhattan, n_neighbors=3, weights=distance; total time=  31.0s\n",
      "[CV] END ..metric=manhattan, n_neighbors=3, weights=distance; total time=  32.3s\n",
      "[CV] END ..metric=manhattan, n_neighbors=3, weights=distance; total time=  32.6s\n",
      "[CV] END ..metric=manhattan, n_neighbors=3, weights=distance; total time=  30.5s\n",
      "[CV] END ..metric=manhattan, n_neighbors=3, weights=distance; total time=  30.4s\n",
      "[CV] END ..metric=manhattan, n_neighbors=3, weights=distance; total time=  30.9s\n",
      "[CV] END ..metric=manhattan, n_neighbors=3, weights=distance; total time=  31.2s\n",
      "[CV] END ..metric=manhattan, n_neighbors=3, weights=distance; total time=  33.0s\n",
      "[CV] END ..metric=manhattan, n_neighbors=3, weights=distance; total time=  30.4s\n",
      "[CV] END ..metric=manhattan, n_neighbors=3, weights=distance; total time=  38.8s\n",
      "[CV] END ...metric=manhattan, n_neighbors=3, weights=uniform; total time=  31.7s\n",
      "[CV] END ...metric=manhattan, n_neighbors=3, weights=uniform; total time=  30.7s\n",
      "[CV] END ...metric=manhattan, n_neighbors=3, weights=uniform; total time=  30.5s\n",
      "[CV] END ...metric=manhattan, n_neighbors=3, weights=uniform; total time=  31.4s\n",
      "[CV] END ...metric=manhattan, n_neighbors=3, weights=uniform; total time=  31.8s\n",
      "[CV] END ...metric=manhattan, n_neighbors=3, weights=uniform; total time=  30.7s\n",
      "[CV] END ...metric=manhattan, n_neighbors=3, weights=uniform; total time=  30.2s\n",
      "[CV] END ...metric=manhattan, n_neighbors=3, weights=uniform; total time=  30.7s\n",
      "[CV] END ...metric=manhattan, n_neighbors=3, weights=uniform; total time=  31.8s\n",
      "[CV] END ...metric=manhattan, n_neighbors=3, weights=uniform; total time=  37.1s\n",
      "[CV] END ..metric=manhattan, n_neighbors=4, weights=distance; total time=  33.0s\n",
      "[CV] END ..metric=manhattan, n_neighbors=4, weights=distance; total time=  30.7s\n",
      "[CV] END ..metric=manhattan, n_neighbors=4, weights=distance; total time=  30.4s\n",
      "[CV] END ..metric=manhattan, n_neighbors=4, weights=distance; total time=  31.0s\n",
      "[CV] END ..metric=manhattan, n_neighbors=4, weights=distance; total time=  30.9s\n",
      "[CV] END ..metric=manhattan, n_neighbors=4, weights=distance; total time=  32.8s\n",
      "[CV] END ..metric=manhattan, n_neighbors=4, weights=distance; total time=  31.4s\n",
      "[CV] END ..metric=manhattan, n_neighbors=4, weights=distance; total time=  32.0s\n",
      "[CV] END ..metric=manhattan, n_neighbors=4, weights=distance; total time=  30.5s\n",
      "[CV] END ..metric=manhattan, n_neighbors=4, weights=distance; total time=  35.8s\n",
      "[CV] END ...metric=manhattan, n_neighbors=4, weights=uniform; total time=  30.7s\n",
      "[CV] END ...metric=manhattan, n_neighbors=4, weights=uniform; total time=  30.9s\n",
      "[CV] END ...metric=manhattan, n_neighbors=4, weights=uniform; total time=  30.3s\n",
      "[CV] END ...metric=manhattan, n_neighbors=4, weights=uniform; total time=  30.9s\n",
      "[CV] END ...metric=manhattan, n_neighbors=4, weights=uniform; total time=  30.6s\n",
      "[CV] END ...metric=manhattan, n_neighbors=4, weights=uniform; total time=  30.4s\n",
      "[CV] END ...metric=manhattan, n_neighbors=4, weights=uniform; total time=  30.6s\n",
      "[CV] END ...metric=manhattan, n_neighbors=4, weights=uniform; total time=  34.0s\n",
      "[CV] END ...metric=manhattan, n_neighbors=4, weights=uniform; total time=  31.4s\n",
      "[CV] END ...metric=manhattan, n_neighbors=4, weights=uniform; total time=  35.7s\n",
      "[CV] END ..metric=manhattan, n_neighbors=5, weights=distance; total time=  30.6s\n",
      "[CV] END ..metric=manhattan, n_neighbors=5, weights=distance; total time=  31.1s\n",
      "[CV] END ..metric=manhattan, n_neighbors=5, weights=distance; total time=  31.4s\n",
      "[CV] END ..metric=manhattan, n_neighbors=5, weights=distance; total time=  31.0s\n",
      "[CV] END ..metric=manhattan, n_neighbors=5, weights=distance; total time=  32.4s\n",
      "[CV] END ..metric=manhattan, n_neighbors=5, weights=distance; total time=  31.5s\n",
      "[CV] END ..metric=manhattan, n_neighbors=5, weights=distance; total time=  30.8s\n",
      "[CV] END ..metric=manhattan, n_neighbors=5, weights=distance; total time=  31.6s\n",
      "[CV] END ..metric=manhattan, n_neighbors=5, weights=distance; total time=  30.5s\n",
      "[CV] END ..metric=manhattan, n_neighbors=5, weights=distance; total time=  36.3s\n",
      "[CV] END ...metric=manhattan, n_neighbors=5, weights=uniform; total time=  31.5s\n",
      "[CV] END ...metric=manhattan, n_neighbors=5, weights=uniform; total time=  31.0s\n",
      "[CV] END ...metric=manhattan, n_neighbors=5, weights=uniform; total time=  30.9s\n",
      "[CV] END ...metric=manhattan, n_neighbors=5, weights=uniform; total time=  32.7s\n",
      "[CV] END ...metric=manhattan, n_neighbors=5, weights=uniform; total time=  32.3s\n",
      "[CV] END ...metric=manhattan, n_neighbors=5, weights=uniform; total time=  32.6s\n",
      "[CV] END ...metric=manhattan, n_neighbors=5, weights=uniform; total time=  30.6s\n",
      "[CV] END ...metric=manhattan, n_neighbors=5, weights=uniform; total time=  30.7s\n",
      "[CV] END ...metric=manhattan, n_neighbors=5, weights=uniform; total time=  33.7s\n",
      "[CV] END ...metric=manhattan, n_neighbors=5, weights=uniform; total time=  36.2s\n"
     ]
    },
    {
     "data": {
      "text/plain": [
       "GridSearchCV(cv=10, estimator=KNeighborsClassifier(),\n",
       "             param_grid={'metric': ['manhattan'],\n",
       "                         'n_neighbors': [1, 2, 3, 4, 5],\n",
       "                         'weights': ['distance', 'uniform']},\n",
       "             verbose=2)"
      ]
     },
     "execution_count": 21,
     "metadata": {},
     "output_type": "execute_result"
    }
   ],
   "source": [
    "knn_cv_model.fit(X_train, y_train)"
   ]
  },
  {
   "cell_type": "code",
   "execution_count": 22,
   "id": "db03f9aa-d1c8-4d01-b411-70712e3584e6",
   "metadata": {},
   "outputs": [
    {
     "data": {
      "text/plain": [
       "{'metric': 'manhattan', 'n_neighbors': 4, 'weights': 'distance'}"
      ]
     },
     "execution_count": 22,
     "metadata": {},
     "output_type": "execute_result"
    }
   ],
   "source": [
    "knn_cv_model.best_params_"
   ]
  },
  {
   "cell_type": "code",
   "execution_count": 11,
   "id": "dd9ed2c1-ff58-4c76-9930-8eeea463dccf",
   "metadata": {},
   "outputs": [],
   "source": [
    "knn_tuned = KNeighborsClassifier(n_neighbors = 4, metric= 'manhattan', weights = \"distance\").fit(X_train, y_train)"
   ]
  },
  {
   "cell_type": "code",
   "execution_count": 12,
   "id": "b4a9cf5d-3fc8-4f8e-9e64-48b7219951ae",
   "metadata": {},
   "outputs": [],
   "source": [
    "y_pred = knn_tuned.predict(X_test)"
   ]
  },
  {
   "cell_type": "code",
   "execution_count": 13,
   "id": "87445e6f-a36f-41cf-8712-3eb1f87ef121",
   "metadata": {},
   "outputs": [
    {
     "data": {
      "text/plain": [
       "0.9805825242718447"
      ]
     },
     "execution_count": 13,
     "metadata": {},
     "output_type": "execute_result"
    }
   ],
   "source": [
    "accuracy_score(y_test, y_pred)"
   ]
  },
  {
   "cell_type": "code",
   "execution_count": 14,
   "id": "bcfe411b-7115-412a-a7e1-ac198561c677",
   "metadata": {},
   "outputs": [
    {
     "data": {
      "text/plain": [
       "array([[572,   0,   0,   0,   0,   1],\n",
       "       [  0, 512,  37,   0,   0,   1],\n",
       "       [  0,  15, 567,   0,   0,   0],\n",
       "       [  0,   0,   0, 506,   0,   0],\n",
       "       [  0,   0,   0,   3, 403,   1],\n",
       "       [  0,   0,   0,   1,   1, 470]], dtype=int64)"
      ]
     },
     "execution_count": 14,
     "metadata": {},
     "output_type": "execute_result"
    }
   ],
   "source": [
    "from sklearn.metrics import confusion_matrix\n",
    "\n",
    "cm_tree = confusion_matrix(y_test.to_numpy(), y_pred)\n",
    "cm_tree"
   ]
  },
  {
   "cell_type": "code",
   "execution_count": 20,
   "id": "c74933eb-a87a-4dcc-932e-8464ff5656ed",
   "metadata": {},
   "outputs": [
    {
     "data": {
      "image/png": "[encoded data removed]",
      "text/plain": [
       "<Figure size 720x432 with 2 Axes>"
      ]
     },
     "metadata": {
      "needs_background": "light"
     },
     "output_type": "display_data"
    }
   ],
   "source": [
    "categories = sorted(df[\"Activity\"].unique(), reverse=False)\n",
    "df_tree = pd.DataFrame(cm_tree, index = categories, columns = categories)\n",
    "\n",
    "plt.figure(figsize = (10,6))\n",
    "sns.heatmap(df_tree, annot=True, annot_kws={\"size\": 12}, fmt=\"g\", cmap=\"Blues\")\n",
    "plt.ylabel('True label')\n",
    "plt.xlabel('Predicted label')\n",
    "plt.title(\"Confusion Matrix Classification Trees for kNN Model\")\n",
    "plt.show()"
   ]
  },
  {
   "cell_type": "code",
   "execution_count": null,
   "id": "b9d95225-5280-4b9e-9039-ba9e068e7f2e",
   "metadata": {},
   "outputs": [],
   "source": []
  }
 ],
 "metadata": {
  "kernelspec": {
   "display_name": "Python 3 (ipykernel)",
   "language": "python",
   "name": "python3"
  },
  "language_info": {
   "codemirror_mode": {
    "name": "ipython",
    "version": 3
   },
   "file_extension": ".py",
   "mimetype": "text/x-python",
   "name": "python",
   "nbconvert_exporter": "python",
   "pygments_lexer": "ipython3",
   "version": "3.9.7"
  }
 },
 "nbformat": 4,
 "nbformat_minor": 5
}
